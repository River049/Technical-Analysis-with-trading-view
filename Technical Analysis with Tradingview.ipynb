{
 "cells": [
  {
   "cell_type": "code",
   "execution_count": 12,
   "id": "8a46b6bb-839d-4eb4-ad4b-2554b5512381",
   "metadata": {},
   "outputs": [],
   "source": [
    "from tradingview_ta import TA_Handler, Exchange, Interval\n",
    "\n",
    "handler = TA_Handler(\n",
    "    symbol='USDEUR',\n",
    "    screener='forex',\n",
    "    exchange=Exchange.FOREX,\n",
    "    interval=Interval.INTERVAL_1_MONTH\n",
    ")"
   ]
  },
  {
   "cell_type": "code",
   "execution_count": 13,
   "id": "b66df7a1-3b57-4139-9530-9fbb72d76aac",
   "metadata": {},
   "outputs": [
    {
     "data": {
      "text/plain": [
       "{'RECOMMENDATION': 'BUY', 'BUY': 13, 'SELL': 2, 'NEUTRAL': 10}"
      ]
     },
     "execution_count": 13,
     "metadata": {},
     "output_type": "execute_result"
    }
   ],
   "source": [
    "handler.get_analysis().summary"
   ]
  },
  {
   "cell_type": "code",
   "execution_count": 14,
   "id": "86188aca-85fe-43ff-b4c7-8e6f89e8f4e6",
   "metadata": {},
   "outputs": [
    {
     "data": {
      "text/plain": [
       "53.13808163"
      ]
     },
     "execution_count": 14,
     "metadata": {},
     "output_type": "execute_result"
    }
   ],
   "source": [
    "handler.get_analysis().indicators['RSI']"
   ]
  },
  {
   "cell_type": "code",
   "execution_count": 15,
   "id": "8fa8357a-4d85-46fd-b411-97723de9e23c",
   "metadata": {},
   "outputs": [
    {
     "data": {
      "text/plain": [
       "{'Recommend.Other': 0,\n",
       " 'Recommend.All': 0.39285714,\n",
       " 'Recommend.MA': 0.78571429,\n",
       " 'RSI': 53.13808163,\n",
       " 'RSI[1]': 54.9981102,\n",
       " 'Stoch.K': 29.67101179,\n",
       " 'Stoch.D': 22.89647731,\n",
       " 'Stoch.K[1]': 23.87750879,\n",
       " 'Stoch.D[1]': 18.19683155,\n",
       " 'CCI20': -5.3530662,\n",
       " 'CCI20[1]': -8.57791883,\n",
       " 'ADX': 23.36518666,\n",
       " 'ADX+DI': 22.18461436,\n",
       " 'ADX-DI': 16.02617114,\n",
       " 'ADX+DI[1]': 22.3686682,\n",
       " 'ADX-DI[1]': 16.7310577,\n",
       " 'AO': 0.01846647,\n",
       " 'AO[1]': 0.01685706,\n",
       " 'Mom': 0.0032,\n",
       " 'Mom[1]': -0.015,\n",
       " 'MACD.macd': 0.00855612,\n",
       " 'MACD.signal': 0.01286157,\n",
       " 'Rec.Stoch.RSI': 0,\n",
       " 'Stoch.RSI.K': 17.74340986,\n",
       " 'Rec.WR': 0,\n",
       " 'W.R': -68.96337678,\n",
       " 'Rec.BBPower': 0,\n",
       " 'BBPower': 0.03007991,\n",
       " 'Rec.UO': 0,\n",
       " 'UO': 50.9953637,\n",
       " 'close': 0.9371,\n",
       " 'EMA5': 0.93184112,\n",
       " 'SMA5': 0.92606,\n",
       " 'EMA10': 0.9319743,\n",
       " 'SMA10': 0.9261,\n",
       " 'EMA20': 0.92797655,\n",
       " 'SMA20': 0.944835,\n",
       " 'EMA30': 0.92035349,\n",
       " 'SMA30': 0.91724333,\n",
       " 'EMA50': 0.90735891,\n",
       " 'SMA50': 0.898764,\n",
       " 'EMA100': 0.88498593,\n",
       " 'SMA100': 0.891452,\n",
       " 'EMA200': 0.86949606,\n",
       " 'SMA200': 0.818353,\n",
       " 'Rec.Ichimoku': 0,\n",
       " 'Ichimoku.BLine': 0.9441,\n",
       " 'Rec.VWMA': None,\n",
       " 'VWMA': None,\n",
       " 'Rec.HullMA9': 1,\n",
       " 'HullMA9': 0.93315259,\n",
       " 'Pivot.M.Classic.S3': 0.59476667,\n",
       " 'Pivot.M.Classic.S2': 0.77276667,\n",
       " 'Pivot.M.Classic.S1': 0.85333333,\n",
       " 'Pivot.M.Classic.Middle': 0.95076667,\n",
       " 'Pivot.M.Classic.R1': 1.03133333,\n",
       " 'Pivot.M.Classic.R2': 1.12876667,\n",
       " 'Pivot.M.Classic.R3': 1.30676667,\n",
       " 'Pivot.M.Fibonacci.S3': 0.77276667,\n",
       " 'Pivot.M.Fibonacci.S2': 0.84076267,\n",
       " 'Pivot.M.Fibonacci.S1': 0.88277067,\n",
       " 'Pivot.M.Fibonacci.Middle': 0.95076667,\n",
       " 'Pivot.M.Fibonacci.R1': 1.01876267,\n",
       " 'Pivot.M.Fibonacci.R2': 1.06077067,\n",
       " 'Pivot.M.Fibonacci.R3': 1.12876667,\n",
       " 'Pivot.M.Camarilla.S3': 0.88495,\n",
       " 'Pivot.M.Camarilla.S2': 0.90126667,\n",
       " 'Pivot.M.Camarilla.S1': 0.91758333,\n",
       " 'Pivot.M.Camarilla.Middle': 0.95076667,\n",
       " 'Pivot.M.Camarilla.R1': 0.95021667,\n",
       " 'Pivot.M.Camarilla.R2': 0.96653333,\n",
       " 'Pivot.M.Camarilla.R3': 0.98285,\n",
       " 'Pivot.M.Woodie.S3': 0.6669,\n",
       " 'Pivot.M.Woodie.S2': 0.76855,\n",
       " 'Pivot.M.Woodie.S1': 0.8449,\n",
       " 'Pivot.M.Woodie.Middle': 0.94655,\n",
       " 'Pivot.M.Woodie.R1': 1.0229,\n",
       " 'Pivot.M.Woodie.R2': 1.12455,\n",
       " 'Pivot.M.Woodie.R3': 1.2009,\n",
       " 'Pivot.M.Demark.S1': 0.90205,\n",
       " 'Pivot.M.Demark.Middle': 0.975125,\n",
       " 'Pivot.M.Demark.R1': 1.08005,\n",
       " 'open': 0.9456,\n",
       " 'P.SAR': 0.8871,\n",
       " 'BB.lower': 0.87947029,\n",
       " 'BB.upper': 1.01019971,\n",
       " 'AO[2]': 0.01507882,\n",
       " 'volume': 0,\n",
       " 'change': -0.88841883,\n",
       " 'low': 0.9368,\n",
       " 'high': 0.9568}"
      ]
     },
     "execution_count": 15,
     "metadata": {},
     "output_type": "execute_result"
    }
   ],
   "source": [
    "handler.get_analysis().indicators"
   ]
  },
  {
   "cell_type": "code",
   "execution_count": 16,
   "id": "8c5eb3f9-3a19-4255-bae2-275c0d23ec59",
   "metadata": {},
   "outputs": [],
   "source": [
    "#https://tvdb.brianthe.dev/"
   ]
  }
 ],
 "metadata": {
  "kernelspec": {
   "display_name": "Python 3 (ipykernel)",
   "language": "python",
   "name": "python3"
  },
  "language_info": {
   "codemirror_mode": {
    "name": "ipython",
    "version": 3
   },
   "file_extension": ".py",
   "mimetype": "text/x-python",
   "name": "python",
   "nbconvert_exporter": "python",
   "pygments_lexer": "ipython3",
   "version": "3.12.0"
  }
 },
 "nbformat": 4,
 "nbformat_minor": 5
}
